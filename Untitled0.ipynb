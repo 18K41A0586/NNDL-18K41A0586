{
  "nbformat": 4,
  "nbformat_minor": 0,
  "metadata": {
    "colab": {
      "name": "Untitled0.ipynb",
      "provenance": [],
      "collapsed_sections": [],
      "authorship_tag": "ABX9TyOpNaSGYgkoSqZSqPeRcx6T",
      "include_colab_link": true
    },
    "kernelspec": {
      "name": "python3",
      "display_name": "Python 3"
    }
  },
  "cells": [
    {
      "cell_type": "markdown",
      "metadata": {
        "id": "view-in-github",
        "colab_type": "text"
      },
      "source": [
        "<a href=\"https://colab.research.google.com/github/18K41A0586/NNDL-18K41A0586/blob/main/Untitled0.ipynb\" target=\"_parent\"><img src=\"https://colab.research.google.com/assets/colab-badge.svg\" alt=\"Open In Colab\"/></a>"
      ]
    },
    {
      "cell_type": "code",
      "metadata": {
        "colab": {
          "base_uri": "https://localhost:8080/"
        },
        "id": "VrB_UspqSS61",
        "outputId": "93ecc970-5628-4b24-f949-d24456b9ef23"
      },
      "source": [
        "from sympy import *\r\n",
        "x = Symbol('x')\r\n",
        "y = diff(x**4+3*x**2+10,x)\r\n",
        "print(f'First order derivative of function is ') \r\n",
        "z = 2.0\r\n",
        "itr = 120\r\n",
        "learningrate = 0.01\r\n",
        "for i in range(0,itr):\r\n",
        "    x = symbols('x')\r\n",
        "    df = y.subs(x, z) \r\n",
        "    df = round(df,2)\r\n",
        "    dx = (-1.0)*learningrate*df\r\n",
        "    z = z + dx\r\n",
        "    x1 = round(z, 2)\r\n",
        "print(z)\r\n",
        "print(f'minimum value obtained at x = {z} for function')\r\n",
        "fn = x**4+3*x**2+10\r\n",
        "print(f'value for function(f(x)) at minimum value x = {z} is {fn.subs(x,z)}')"
      ],
      "execution_count": null,
      "outputs": [
        {
          "output_type": "stream",
          "text": [
            "First order derivative of function is \n",
            "0.0007999999999999028\n",
            "minimum value obtained at x = 0.0007999999999999028 for function\n",
            "value for function(f(x)) at minimum value x = 0.0007999999999999028 is 10.0000019200004\n"
          ],
          "name": "stdout"
        }
      ]
    }
  ]
}